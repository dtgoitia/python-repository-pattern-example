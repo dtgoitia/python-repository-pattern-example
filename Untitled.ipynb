{
 "cells": [
  {
   "cell_type": "raw",
   "metadata": {},
   "source": []
  },
  {
   "cell_type": "code",
   "execution_count": 14,
   "metadata": {},
   "outputs": [],
   "source": [
    "import pandas as pd\n",
    "\n",
    "from cortex_lab.data_providers.data_managers import DataManager, DataFilterExpression\n",
    "\n",
    "dm = DataManager()"
   ]
  },
  {
   "cell_type": "code",
   "execution_count": 15,
   "metadata": {},
   "outputs": [],
   "source": [
    "data_filter = DataFilterExpression(regions={'default'}, domains_ts={\"case_cards\":{\"20210315T173855Z\"}})\n",
    "case_cards_tables = dm.get_case_cards(data_filter)"
   ]
  },
  {
   "cell_type": "code",
   "execution_count": 16,
   "metadata": {},
   "outputs": [],
   "source": [
    "judgements = case_cards_tables.doctor_triage_judgments"
   ]
  },
  {
   "cell_type": "code",
   "execution_count": 17,
   "metadata": {},
   "outputs": [
    {
     "data": {
      "text/html": "<div>\n<style scoped>\n    .dataframe tbody tr th:only-of-type {\n        vertical-align: middle;\n    }\n\n    .dataframe tbody tr th {\n        vertical-align: top;\n    }\n\n    .dataframe thead th {\n        text-align: right;\n    }\n</style>\n<table border=\"1\" class=\"dataframe\">\n  <thead>\n    <tr style=\"text-align: right;\">\n      <th></th>\n      <th>card_id</th>\n      <th>highest_appropriate_triage</th>\n      <th>optimal_safe_triage</th>\n      <th>lowest_safe_triage</th>\n      <th>user_id</th>\n      <th>ts</th>\n      <th>region</th>\n    </tr>\n  </thead>\n  <tbody>\n    <tr>\n      <th>4290</th>\n      <td>29057</td>\n      <td>HOSPITAL_URGENT</td>\n      <td>HOSPITAL_URGENT</td>\n      <td>HOSPITAL_URGENT</td>\n      <td>0a513a3c-f9dd-4ea9-bec2-1a3c2226d3cc</td>\n      <td>20210315T173855Z</td>\n      <td>default</td>\n    </tr>\n    <tr>\n      <th>4291</th>\n      <td>29058</td>\n      <td>HOSPITAL_URGENT</td>\n      <td>HOSPITAL_URGENT</td>\n      <td>HOSPITAL_URGENT</td>\n      <td>0a513a3c-f9dd-4ea9-bec2-1a3c2226d3cc</td>\n      <td>20210315T173855Z</td>\n      <td>default</td>\n    </tr>\n    <tr>\n      <th>4292</th>\n      <td>29059</td>\n      <td>HOSPITAL</td>\n      <td>GP_URGENT</td>\n      <td>GP_URGENT</td>\n      <td>e89f2e06-94cb-4700-8608-bcc405164cee</td>\n      <td>20210315T173855Z</td>\n      <td>default</td>\n    </tr>\n    <tr>\n      <th>4293</th>\n      <td>29059</td>\n      <td>HOSPITAL</td>\n      <td>HOSPITAL</td>\n      <td>GP_URGENT</td>\n      <td>c66c4bec-ad7f-4f41-8366-8cd41159562e</td>\n      <td>20210315T173855Z</td>\n      <td>default</td>\n    </tr>\n    <tr>\n      <th>4294</th>\n      <td>29059</td>\n      <td>HOSPITAL</td>\n      <td>HOSPITAL</td>\n      <td>GP_URGENT</td>\n      <td>763d1152-6757-4c95-9ca0-9cb59b77a307</td>\n      <td>20210315T173855Z</td>\n      <td>default</td>\n    </tr>\n  </tbody>\n</table>\n</div>",
      "text/plain": "      card_id highest_appropriate_triage optimal_safe_triage  \\\n4290    29057            HOSPITAL_URGENT     HOSPITAL_URGENT   \n4291    29058            HOSPITAL_URGENT     HOSPITAL_URGENT   \n4292    29059                   HOSPITAL           GP_URGENT   \n4293    29059                   HOSPITAL            HOSPITAL   \n4294    29059                   HOSPITAL            HOSPITAL   \n\n     lowest_safe_triage                               user_id  \\\n4290    HOSPITAL_URGENT  0a513a3c-f9dd-4ea9-bec2-1a3c2226d3cc   \n4291    HOSPITAL_URGENT  0a513a3c-f9dd-4ea9-bec2-1a3c2226d3cc   \n4292          GP_URGENT  e89f2e06-94cb-4700-8608-bcc405164cee   \n4293          GP_URGENT  c66c4bec-ad7f-4f41-8366-8cd41159562e   \n4294          GP_URGENT  763d1152-6757-4c95-9ca0-9cb59b77a307   \n\n                    ts   region  \n4290  20210315T173855Z  default  \n4291  20210315T173855Z  default  \n4292  20210315T173855Z  default  \n4293  20210315T173855Z  default  \n4294  20210315T173855Z  default  "
     },
     "execution_count": 17,
     "metadata": {},
     "output_type": "execute_result"
    }
   ],
   "source": [
    "judgements.tail()"
   ]
  },
  {
   "cell_type": "code",
   "execution_count": 18,
   "metadata": {},
   "outputs": [
    {
     "data": {
      "text/html": "<div>\n<style scoped>\n    .dataframe tbody tr th:only-of-type {\n        vertical-align: middle;\n    }\n\n    .dataframe tbody tr th {\n        vertical-align: top;\n    }\n\n    .dataframe thead th {\n        text-align: right;\n    }\n</style>\n<table border=\"1\" class=\"dataframe\">\n  <thead>\n    <tr style=\"text-align: right;\">\n      <th></th>\n      <th>card_id</th>\n      <th>highest_appropriate_triage</th>\n      <th>optimal_safe_triage</th>\n      <th>lowest_safe_triage</th>\n      <th>user_id</th>\n      <th>ts</th>\n      <th>region</th>\n    </tr>\n  </thead>\n  <tbody>\n    <tr>\n      <th>0</th>\n      <td>632</td>\n      <td>HOSPITAL</td>\n      <td>HOSPITAL</td>\n      <td>GP_URGENT</td>\n      <td>f63108a9-ffce-46ac-88cd-8f2758f3ca11</td>\n      <td>20210315T173855Z</td>\n      <td>default</td>\n    </tr>\n    <tr>\n      <th>1</th>\n      <td>632</td>\n      <td>HOSPITAL</td>\n      <td>HOSPITAL</td>\n      <td>GP_URGENT</td>\n      <td>763d1152-6757-4c95-9ca0-9cb59b77a307</td>\n      <td>20210315T173855Z</td>\n      <td>default</td>\n    </tr>\n    <tr>\n      <th>2</th>\n      <td>3632</td>\n      <td>GP_URGENT</td>\n      <td>GP</td>\n      <td>GP</td>\n      <td>c66c4bec-ad7f-4f41-8366-8cd41159562e</td>\n      <td>20210315T173855Z</td>\n      <td>default</td>\n    </tr>\n    <tr>\n      <th>3</th>\n      <td>3632</td>\n      <td>HOSPITAL</td>\n      <td>GP_URGENT</td>\n      <td>GP_URGENT</td>\n      <td>d2514c05-09e6-47be-b11a-d517ff53818c</td>\n      <td>20210315T173855Z</td>\n      <td>default</td>\n    </tr>\n    <tr>\n      <th>4</th>\n      <td>3632</td>\n      <td>GP_URGENT</td>\n      <td>GP_URGENT</td>\n      <td>GP_URGENT</td>\n      <td>0a513a3c-f9dd-4ea9-bec2-1a3c2226d3cc</td>\n      <td>20210315T173855Z</td>\n      <td>default</td>\n    </tr>\n  </tbody>\n</table>\n</div>",
      "text/plain": "   card_id highest_appropriate_triage optimal_safe_triage lowest_safe_triage  \\\n0      632                   HOSPITAL            HOSPITAL          GP_URGENT   \n1      632                   HOSPITAL            HOSPITAL          GP_URGENT   \n2     3632                  GP_URGENT                  GP                 GP   \n3     3632                   HOSPITAL           GP_URGENT          GP_URGENT   \n4     3632                  GP_URGENT           GP_URGENT          GP_URGENT   \n\n                                user_id                ts   region  \n0  f63108a9-ffce-46ac-88cd-8f2758f3ca11  20210315T173855Z  default  \n1  763d1152-6757-4c95-9ca0-9cb59b77a307  20210315T173855Z  default  \n2  c66c4bec-ad7f-4f41-8366-8cd41159562e  20210315T173855Z  default  \n3  d2514c05-09e6-47be-b11a-d517ff53818c  20210315T173855Z  default  \n4  0a513a3c-f9dd-4ea9-bec2-1a3c2226d3cc  20210315T173855Z  default  "
     },
     "execution_count": 18,
     "metadata": {},
     "output_type": "execute_result"
    }
   ],
   "source": [
    "judgements.head()"
   ]
  },
  {
   "cell_type": "code",
   "execution_count": 19,
   "metadata": {},
   "outputs": [
    {
     "data": {
      "text/html": "<div>\n<style scoped>\n    .dataframe tbody tr th:only-of-type {\n        vertical-align: middle;\n    }\n\n    .dataframe tbody tr th {\n        vertical-align: top;\n    }\n\n    .dataframe thead th {\n        text-align: right;\n    }\n</style>\n<table border=\"1\" class=\"dataframe\">\n  <thead>\n    <tr style=\"text-align: right;\">\n      <th></th>\n      <th>card_id</th>\n      <th>highest_appropriate_triage</th>\n      <th>optimal_safe_triage</th>\n      <th>lowest_safe_triage</th>\n      <th>user_id</th>\n      <th>ts</th>\n      <th>region</th>\n    </tr>\n  </thead>\n  <tbody>\n    <tr>\n      <th>0</th>\n      <td>632</td>\n      <td>HOSPITAL</td>\n      <td>HOSPITAL</td>\n      <td>GP_URGENT</td>\n      <td>f63108a9-ffce-46ac-88cd-8f2758f3ca11</td>\n      <td>20210315T173855Z</td>\n      <td>default</td>\n    </tr>\n    <tr>\n      <th>1</th>\n      <td>632</td>\n      <td>HOSPITAL</td>\n      <td>HOSPITAL</td>\n      <td>GP_URGENT</td>\n      <td>763d1152-6757-4c95-9ca0-9cb59b77a307</td>\n      <td>20210315T173855Z</td>\n      <td>default</td>\n    </tr>\n  </tbody>\n</table>\n</div>",
      "text/plain": "   card_id highest_appropriate_triage optimal_safe_triage lowest_safe_triage  \\\n0      632                   HOSPITAL            HOSPITAL          GP_URGENT   \n1      632                   HOSPITAL            HOSPITAL          GP_URGENT   \n\n                                user_id                ts   region  \n0  f63108a9-ffce-46ac-88cd-8f2758f3ca11  20210315T173855Z  default  \n1  763d1152-6757-4c95-9ca0-9cb59b77a307  20210315T173855Z  default  "
     },
     "execution_count": 19,
     "metadata": {},
     "output_type": "execute_result"
    }
   ],
   "source": [
    "judgements[judgements['card_id']==632]"
   ]
  },
  {
   "cell_type": "code",
   "execution_count": 27,
   "metadata": {},
   "outputs": [
    {
     "data": {
      "text/html": "<div>\n<style scoped>\n    .dataframe tbody tr th:only-of-type {\n        vertical-align: middle;\n    }\n\n    .dataframe tbody tr th {\n        vertical-align: top;\n    }\n\n    .dataframe thead th {\n        text-align: right;\n    }\n</style>\n<table border=\"1\" class=\"dataframe\">\n  <thead>\n    <tr style=\"text-align: right;\">\n      <th></th>\n      <th>card_id</th>\n      <th>highest_appropriate_triage</th>\n      <th>optimal_safe_triage</th>\n      <th>lowest_safe_triage</th>\n      <th>user_id</th>\n      <th>ts</th>\n      <th>region</th>\n    </tr>\n  </thead>\n  <tbody>\n    <tr>\n      <th>0</th>\n      <td>632</td>\n      <td>HOSPITAL</td>\n      <td>HOSPITAL</td>\n      <td>GP_URGENT</td>\n      <td>f63108a9-ffce-46ac-88cd-8f2758f3ca11</td>\n      <td>20210315T173855Z</td>\n      <td>default</td>\n    </tr>\n    <tr>\n      <th>1</th>\n      <td>632</td>\n      <td>HOSPITAL</td>\n      <td>HOSPITAL</td>\n      <td>GP_URGENT</td>\n      <td>763d1152-6757-4c95-9ca0-9cb59b77a307</td>\n      <td>20210315T173855Z</td>\n      <td>default</td>\n    </tr>\n  </tbody>\n</table>\n</div>",
      "text/plain": "   card_id highest_appropriate_triage optimal_safe_triage lowest_safe_triage  \\\n0      632                   HOSPITAL            HOSPITAL          GP_URGENT   \n1      632                   HOSPITAL            HOSPITAL          GP_URGENT   \n\n                                user_id                ts   region  \n0  f63108a9-ffce-46ac-88cd-8f2758f3ca11  20210315T173855Z  default  \n1  763d1152-6757-4c95-9ca0-9cb59b77a307  20210315T173855Z  default  "
     },
     "execution_count": 27,
     "metadata": {},
     "output_type": "execute_result"
    }
   ],
   "source": [
    "judgements[0:2]"
   ]
  },
  {
   "cell_type": "code",
   "execution_count": 29,
   "metadata": {},
   "outputs": [
    {
     "data": {
      "text/plain": "timestamp\n2012-04-30 22:25:31+00:00    1\n2012-04-30 22:25:43+00:00    1\n2012-04-30 22:29:04+00:00    2\n2012-04-30 22:35:09+00:00    4\n2012-04-30 22:39:28+00:00    1\n2012-04-30 22:47:54+00:00    8\n2012-04-30 22:50:49+00:00    9\n2012-04-30 22:51:57+00:00    1\n2012-04-30 22:54:50+00:00    1\n2012-04-30 22:57:22+00:00    0\n2012-04-30 22:58:38+00:00    7\n2012-04-30 23:05:21+00:00    1\n2012-04-30 23:08:56+00:00    1\ndtype: int64"
     },
     "execution_count": 29,
     "metadata": {},
     "output_type": "execute_result"
    }
   ],
   "source": [
    "import pandas as pd\n",
    "\n",
    "t = [\n",
    "    {'timestamp': '2012-04-30T22:25:31+00:00', 'value': 1},\n",
    "    {'timestamp': '2012-04-30T22:25:43+00:00', 'value': 1},\n",
    "    {'timestamp': '2012-04-30T22:29:04+00:00', 'value': 2},\n",
    "    {'timestamp': '2012-04-30T22:35:09+00:00', 'value': 4},\n",
    "    {'timestamp': '2012-04-30T22:39:28+00:00', 'value': 1},\n",
    "    {'timestamp': '2012-04-30T22:47:54+00:00', 'value': 8},\n",
    "    {'timestamp': '2012-04-30T22:50:49+00:00', 'value': 9},\n",
    "    {'timestamp': '2012-04-30T22:51:57+00:00', 'value': 1},\n",
    "    {'timestamp': '2012-04-30T22:54:50+00:00', 'value': 1},\n",
    "    {'timestamp': '2012-04-30T22:57:22+00:00', 'value': 0},\n",
    "    {'timestamp': '2012-04-30T22:58:38+00:00', 'value': 7},\n",
    "    {'timestamp': '2012-04-30T23:05:21+00:00', 'value': 1},\n",
    "    {'timestamp': '2012-04-30T23:08:56+00:00', 'value': 1},\n",
    "]\n",
    "\n",
    "raw = pd.DataFrame(t)\n",
    "\n",
    "ts = pd.to_datetime(raw['timestamp'])\n",
    "values = (entry['value'] for entry in t)\n",
    "\n",
    "s = pd.Series(values, index=ts)\n",
    "\n",
    "# start_date = s.timestamp.min()\n",
    "# print('start', start_date)\n",
    "# end_date = s.timestamp.max()\n",
    "# print('end  ', end_date)\n",
    "\n",
    "s"
   ]
  },
  {
   "cell_type": "code",
   "execution_count": 17,
   "metadata": {},
   "outputs": [
    {
     "data": {
      "text/plain": "timestamp\n2012-04-30 22:00:00+00:00    35\n2012-04-30 23:00:00+00:00     2\nFreq: H, dtype: int64"
     },
     "execution_count": 17,
     "metadata": {},
     "output_type": "execute_result"
    }
   ],
   "source": [
    "# Using time series\n",
    "# https://pandas.pydata.org/pandas-docs/stable/reference/api/pandas.Grouper.html?highlight=grouper\n",
    "s.groupby(pd.Grouper(freq=\"H\")).sum()"
   ]
  },
  {
   "cell_type": "code",
   "execution_count": 28,
   "metadata": {},
   "outputs": [
    {
     "data": {
      "text/html": "<div>\n<style scoped>\n    .dataframe tbody tr th:only-of-type {\n        vertical-align: middle;\n    }\n\n    .dataframe tbody tr th {\n        vertical-align: top;\n    }\n\n    .dataframe thead th {\n        text-align: right;\n    }\n</style>\n<table border=\"1\" class=\"dataframe\">\n  <thead>\n    <tr style=\"text-align: right;\">\n      <th></th>\n      <th>value</th>\n    </tr>\n    <tr>\n      <th>timestamp</th>\n      <th></th>\n    </tr>\n  </thead>\n  <tbody>\n    <tr>\n      <th>2012-04-30 22:00:00+00:00</th>\n      <td>35</td>\n    </tr>\n    <tr>\n      <th>2012-04-30 23:00:00+00:00</th>\n      <td>2</td>\n    </tr>\n  </tbody>\n</table>\n</div>",
      "text/plain": "                           value\ntimestamp                       \n2012-04-30 22:00:00+00:00     35\n2012-04-30 23:00:00+00:00      2"
     },
     "execution_count": 28,
     "metadata": {},
     "output_type": "execute_result"
    }
   ],
   "source": [
    "raw['timestamp'] = pd.to_datetime(raw['timestamp'])\n",
    "\n",
    "# Group every 2 hours using 'timestamp' key as reference\n",
    "# raw.groupby(pd.Grouper(key='timestamp', freq=\"H\")).sum()\n",
    "\n",
    "# Group every hour using 'timestamp' key as reference\n",
    "raw.groupby(pd.Grouper(key='timestamp', freq=\"H\")).sum()"
   ]
  },
  {
   "cell_type": "code",
   "execution_count": 56,
   "metadata": {},
   "outputs": [
    {
     "data": {
      "text/html": "<div>\n<style scoped>\n    .dataframe tbody tr th:only-of-type {\n        vertical-align: middle;\n    }\n\n    .dataframe tbody tr th {\n        vertical-align: top;\n    }\n\n    .dataframe thead th {\n        text-align: right;\n    }\n</style>\n<table border=\"1\" class=\"dataframe\">\n  <thead>\n    <tr style=\"text-align: right;\">\n      <th></th>\n      <th>timestamp</th>\n      <th>value</th>\n    </tr>\n  </thead>\n  <tbody>\n    <tr>\n      <th>4</th>\n      <td>2012-04-30T22:39:28+00:00</td>\n      <td>1</td>\n    </tr>\n    <tr>\n      <th>5</th>\n      <td>2012-04-30T22:47:54+00:00</td>\n      <td>8</td>\n    </tr>\n    <tr>\n      <th>6</th>\n      <td>2012-04-30T22:50:49+00:00</td>\n      <td>9</td>\n    </tr>\n    <tr>\n      <th>7</th>\n      <td>2012-04-30T22:51:57+00:00</td>\n      <td>1</td>\n    </tr>\n    <tr>\n      <th>8</th>\n      <td>2012-04-30T22:54:50+00:00</td>\n      <td>1</td>\n    </tr>\n    <tr>\n      <th>9</th>\n      <td>2012-04-30T22:57:22+00:00</td>\n      <td>0</td>\n    </tr>\n    <tr>\n      <th>10</th>\n      <td>2012-04-30T22:58:38+00:00</td>\n      <td>7</td>\n    </tr>\n    <tr>\n      <th>11</th>\n      <td>2012-04-30T23:05:21+00:00</td>\n      <td>1</td>\n    </tr>\n  </tbody>\n</table>\n</div>",
      "text/plain": "                    timestamp  value\n4   2012-04-30T22:39:28+00:00      1\n5   2012-04-30T22:47:54+00:00      8\n6   2012-04-30T22:50:49+00:00      9\n7   2012-04-30T22:51:57+00:00      1\n8   2012-04-30T22:54:50+00:00      1\n9   2012-04-30T22:57:22+00:00      0\n10  2012-04-30T22:58:38+00:00      7\n11  2012-04-30T23:05:21+00:00      1"
     },
     "execution_count": 56,
     "metadata": {},
     "output_type": "execute_result"
    }
   ],
   "source": [
    "# Filter using dates\n",
    "from_date = '2012-04-30T22:39:10+00:00'\n",
    "to_date = '2012-04-30T23:05:25+00:00'\n",
    "\n",
    "raw[(from_date < raw.timestamp) & (raw.timestamp < to_date)]\n",
    "# TODO: I think the timestamps are compared as strings, not as datetime\n",
    "# ensure how to do it as datetime\n",
    "# check https://stackoverflow.com/questions/22898824/filtering-pandas-dataframes-on-dates"
   ]
  },
  {
   "cell_type": "code",
   "execution_count": null,
   "metadata": {},
   "outputs": [],
   "source": []
  }
 ],
 "metadata": {
  "kernelspec": {
   "display_name": "Python 3.8.7 64-bit ('.venv')",
   "name": "python387jvsc74a57bd0614a892cde99a1a339a7df445a13fca56cc7c33770bedf0f110844a74418b432"
  },
  "language_info": {
   "codemirror_mode": {
    "name": "ipython",
    "version": 3
   },
   "file_extension": ".py",
   "mimetype": "text/x-python",
   "name": "python",
   "nbconvert_exporter": "python",
   "pygments_lexer": "ipython3",
   "version": "3.8.7"
  }
 },
 "nbformat": 4,
 "nbformat_minor": 5
}